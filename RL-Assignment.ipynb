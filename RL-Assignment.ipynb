{
 "cells": [
  {
   "cell_type": "code",
   "execution_count": 109,
   "metadata": {
    "pycharm": {
     "name": "#%%\n"
    }
   },
   "outputs": [],
   "source": [
    "# base code from https://pytorch.org/tutorials/intermediate/reinforcement_q_learning.html#training\n",
    "\n",
    "import gym\n",
    "import gym.wrappers.monitoring.video_recorder\n",
    "\n",
    "import math\n",
    "import random\n",
    "import numpy as np\n",
    "import matplotlib\n",
    "import matplotlib.pyplot as plt\n",
    "from collections import namedtuple\n",
    "from itertools import count\n",
    "from PIL import Image\n",
    "\n",
    "import torch\n",
    "import torch.nn as nn\n",
    "import torch.optim as optim\n",
    "import torch.nn.functional as F\n",
    "import torchvision.transforms as T\n",
    "from tqdm import tqdm\n",
    "\n",
    "torch.cuda.empty_cache()"
   ]
  },
  {
   "cell_type": "code",
   "execution_count": 110,
   "metadata": {
    "pycharm": {
     "name": "#%%\n"
    }
   },
   "outputs": [],
   "source": [
    "env = gym.make('Breakout-v0').unwrapped\n",
    "# env = gym.make('Gravitar-v0').unwrapped\n",
    "\n",
    "# https://github.com/openai/baselines/blob/master/baselines/common/atari_wrappers.py\n",
    "# openAI's Frame skip and max frame wrapper\n",
    "class MaxAndSkipEnv(gym.Wrapper):\n",
    "    def __init__(self, env, skip=4):\n",
    "        \"\"\"Return only every `skip`-th frame\"\"\"\n",
    "        gym.Wrapper.__init__(self, env)\n",
    "        # most recent raw observations (for max pooling across time steps)\n",
    "        self._obs_buffer = np.zeros((2,)+env.observation_space.shape, dtype=np.uint8)\n",
    "        self._skip       = skip\n",
    "\n",
    "    def step(self, action):\n",
    "        \"\"\"Repeat action, sum reward, and max over last observations.\"\"\"\n",
    "        total_reward = 0.0\n",
    "        done = None\n",
    "        for i in range(self._skip):\n",
    "            obs, reward, done, info = self.env.step(action)\n",
    "            if i == self._skip - 2: self._obs_buffer[0] = obs\n",
    "            if i == self._skip - 1: self._obs_buffer[1] = obs\n",
    "            total_reward += reward\n",
    "            if done:\n",
    "                break\n",
    "        # Note that the observation on the done=True frame\n",
    "        # doesn't matter\n",
    "        max_frame = self._obs_buffer.max(axis=0)\n",
    "\n",
    "        return max_frame, total_reward, done, info\n",
    "\n",
    "    def reset(self, **kwargs):\n",
    "        return self.env.reset(**kwargs)"
   ]
  },
  {
   "cell_type": "code",
   "execution_count": 111,
   "outputs": [],
   "source": [
    "# Wrappers\n",
    "stackSize = 4\n",
    "video_every=5\n",
    "env = gym.wrappers.Monitor(env, \"./recordings/breakout/\", video_callable=lambda episode_id: (episode_id%video_every)==0,force=True)\n",
    "env = MaxAndSkipEnv(env)\n",
    "env = gym.wrappers.frame_stack.FrameStack(env,stackSize)\n",
    "\n",
    "# set up matplotlib\n",
    "is_ipython = 'inline' in matplotlib.get_backend()\n",
    "if is_ipython:\n",
    "    from IPython import display\n",
    "\n",
    "plt.ion()\n",
    "\n",
    "# if gpu is to be used\n",
    "device = torch.device(\"cuda\" if torch.cuda.is_available() else \"cpu\")"
   ],
   "metadata": {
    "collapsed": false,
    "pycharm": {
     "name": "#%%\n"
    }
   }
  },
  {
   "cell_type": "code",
   "execution_count": 112,
   "metadata": {
    "pycharm": {
     "name": "#%%\n"
    }
   },
   "outputs": [],
   "source": [
    "# Replay memory class, storing states, actions, following state and the reward gained\n",
    "\n",
    "Transition = namedtuple('Transition',\n",
    "                        ('state', 'action', 'next_state', 'reward'))\n",
    "\n",
    "class ReplayMemory(object):\n",
    "\n",
    "    def __init__(self, capacity):\n",
    "        self.capacity = capacity\n",
    "        self.memory = []\n",
    "        self.position = 0\n",
    "\n",
    "    def push(self, *args):\n",
    "        \"\"\"Saves a transition.\"\"\"\n",
    "        if len(self.memory) < self.capacity:\n",
    "            self.memory.append(None)\n",
    "        self.memory[self.position] = Transition(*args)\n",
    "        self.position = (self.position + 1) % self.capacity\n",
    "\n",
    "    def sample(self, batch_size):\n",
    "        return random.sample(self.memory, batch_size)\n",
    "\n",
    "    def __len__(self):\n",
    "        return len(self.memory)"
   ]
  },
  {
   "cell_type": "code",
   "execution_count": 113,
   "metadata": {
    "pycharm": {
     "name": "#%%\n"
    }
   },
   "outputs": [],
   "source": [
    "\n",
    "class DQN(nn.Module):\n",
    "\n",
    "    def __init__(self, h, w, outputs):\n",
    "        super(DQN, self).__init__()\n",
    "        conv_out = 64\n",
    "        # 8,4\n",
    "        # 4,2\n",
    "        # 3,1\n",
    "        if grey:\n",
    "            self.conv1 = nn.Conv2d(1*stackSize, 32, kernel_size=8, stride=4)\n",
    "        else:\n",
    "            self.conv1 = nn.Conv2d(3*stackSize, 32, kernel_size=8, stride=4)\n",
    "        self.bn1 = nn.BatchNorm2d(32)\n",
    "        self.conv2 = nn.Conv2d(32, 64, kernel_size=4, stride=2)\n",
    "        self.bn2 = nn.BatchNorm2d(64)\n",
    "        self.conv3 = nn.Conv2d(64, conv_out, kernel_size=3, stride=1)\n",
    "        self.bn3 = nn.BatchNorm2d(conv_out)\n",
    "\n",
    "        # Number of Linear input connections depends on output of conv2d layers\n",
    "        # and therefore the input image size, so compute it.\n",
    "        def conv2d_size_out(size, kernel_size = 5, stride = 2):\n",
    "            return (size - (kernel_size - 1) - 1) // stride  + 1\n",
    "        convw = conv2d_size_out(conv2d_size_out(conv2d_size_out(w,kernel_size=8,stride=4),kernel_size=4),kernel_size=3,stride=1)\n",
    "        convh = conv2d_size_out(conv2d_size_out(conv2d_size_out(h,kernel_size=8,stride=4),kernel_size=4),kernel_size=3,stride=1)\n",
    "\n",
    "        # lstm_input_size = convw * convh * conv_out\n",
    "        # linear_input_size = 512\n",
    "        linear_input_size = convw * convh * conv_out\n",
    "        # self.lstm = nn.LSTM(lstm_input_size, linear_input_size)\n",
    "        # dualing networks\n",
    "        # https://arxiv.org/pdf/1511.06581.pdf\n",
    "        self.adv1 = nn.Linear(linear_input_size, 512)\n",
    "        self.adv2 = nn.Linear(512, outputs)\n",
    "        self.val1 = nn.Linear(linear_input_size, 512)\n",
    "        self.val2 = nn.Linear(512, 1)\n",
    "\n",
    "    # Called with either one element to determine next action, or a batch\n",
    "    # during optimization. Returns tensor([[left0exp,right0exp]...]).\n",
    "    def forward(self, x):\n",
    "        x = F.relu(self.bn1(self.conv1(x)))\n",
    "        x = F.relu(self.bn2(self.conv2(x)))\n",
    "        x = F.relu(self.bn3(self.conv3(x)))\n",
    "        x = x.view(x.size(0), -1)\n",
    "        adv = F.relu(self.adv1(x))\n",
    "        adv = self.adv2(adv)\n",
    "        val = F.relu(self.val1(x))\n",
    "        val = self.val2(val)\n",
    "        return val + adv - adv.mean(1, keepdim=True)"
   ]
  },
  {
   "cell_type": "code",
   "execution_count": 114,
   "metadata": {
    "pycharm": {
     "name": "#%%\n"
    }
   },
   "outputs": [],
   "source": [
    "scaledScreenSize = (84,84)\n",
    "grey = True\n",
    "if grey:\n",
    "    resize = T.Compose([T.ToPILImage(),\n",
    "                        T.Resize(scaledScreenSize, interpolation=Image.CUBIC),\n",
    "                        T.Grayscale(),\n",
    "                        T.ToTensor()])\n",
    "else:\n",
    "    resize = T.Compose([T.ToPILImage(),\n",
    "                        T.Resize(scaledScreenSize, interpolation=Image.CUBIC),\n",
    "                        T.ToTensor()])\n",
    "\n",
    "def get_screen(screen):\n",
    "\n",
    "    final =[]\n",
    "    for i in range(len(screen)):\n",
    "\n",
    "        ## Need to convert data type to 32F\n",
    "        temp = np.ascontiguousarray(screen[i], dtype=np.float32) / 255\n",
    "        temp = torch.from_numpy(np.array(temp)).permute(2,0,1)\n",
    "\n",
    "        temp = resize(temp)\n",
    "\n",
    "        final.append(temp.unsqueeze(0))\n",
    "\n",
    "    final = torch.cat(final).permute(1,0,2,3)\n",
    "\n",
    "    return final.to(device)\n",
    "\n",
    "\n",
    "\n",
    "# temp = env.reset()\n",
    "# plt.figure()\n",
    "# if grey:\n",
    "#     plt.imshow(get_screen(temp).cpu().permute(1, 2,3, 0)[0].numpy(),\n",
    "#             interpolation='none', cmap='gray')\n",
    "# else:\n",
    "#     plt.imshow(get_screen(temp).cpu().permute(1, 2, 0).numpy(),\n",
    "#             interpolation='none')\n",
    "# plt.title('Example extracted screen')\n",
    "# plt.show()\n"
   ]
  },
  {
   "cell_type": "code",
   "execution_count": 115,
   "metadata": {
    "pycharm": {
     "name": "#%%\n"
    }
   },
   "outputs": [],
   "source": [
    "\n",
    "BATCH_SIZE = 128\n",
    "GAMMA = 0.999\n",
    "EPSILON_MAX=0.1\n",
    "EPSILON_MIN=0.01\n",
    "TARGET_UPDATE = 5\n",
    "OUTPUT_FREQUENCY = 10\n",
    "video_every=10\n",
    "\n",
    "# init with correct dims\n",
    "screen_width = scaledScreenSize[0]\n",
    "screen_height = scaledScreenSize[1]\n",
    "\n",
    "# Get number of actions from gym action space\n",
    "n_actions = env.action_space.n\n",
    "\n",
    "policy_net = DQN(screen_height, screen_width, n_actions).to(device)\n",
    "target_net = DQN(screen_height, screen_width, n_actions).to(device)\n",
    "target_net.load_state_dict(policy_net.state_dict())\n",
    "target_net.eval()\n",
    "\n",
    "optimizer = optim.Adam(policy_net.parameters())\n",
    "\n",
    "memory = ReplayMemory(10000)\n",
    "\n",
    "\n",
    "\n",
    "def select_action(state,n_episode):\n",
    "    # global steps_done\n",
    "    sample = random.random()\n",
    "\n",
    "    epsilon = max(EPSILON_MIN,EPSILON_MAX - EPSILON_MIN*(n_episode/400))\n",
    "\n",
    "    if sample > epsilon:\n",
    "        with torch.no_grad():\n",
    "            # t.max(1) will return largest column value of each row.\n",
    "            # second column on max result is index of where max element was\n",
    "            # found, so we pick action with the larger expected reward.\n",
    "            x = policy_net(state)\n",
    "            return x.max(1)[1].view(1, 1)\n",
    "    else:\n",
    "        return torch.tensor([[random.randrange(n_actions)]], device=device, dtype=torch.long)\n",
    "\n"
   ]
  },
  {
   "cell_type": "code",
   "execution_count": 116,
   "metadata": {
    "pycharm": {
     "name": "#%%\n"
    }
   },
   "outputs": [],
   "source": [
    "\n",
    "def optimize_model():\n",
    "\n",
    "    if len(memory) < BATCH_SIZE:\n",
    "        return\n",
    "    transitions = memory.sample(BATCH_SIZE)\n",
    "    # Transpose the batch (see https://stackoverflow.com/a/19343/3343043 for\n",
    "    # detailed explanation). This converts batch-array of Transitions\n",
    "    # to Transition of batch-arrays.\n",
    "    batch = Transition(*zip(*transitions))\n",
    "\n",
    "    # Compute a mask of non-final states and concatenate the batch elements\n",
    "    # (a final state would've been the one after which simulation ended)\n",
    "    non_final_mask = torch.tensor(tuple(map(lambda s: s is not None,\n",
    "                                          batch.next_state)), device=device, dtype=torch.bool)\n",
    "    non_final_next_states = torch.cat([s for s in batch.next_state\n",
    "                                                if s is not None])\n",
    "    state_batch = torch.cat(batch.state)\n",
    "    action_batch = torch.cat(batch.action)\n",
    "    reward_batch = torch.cat(batch.reward)\n",
    "\n",
    "    # Compute Q(s_t, a) - the model computes Q(s_t), then we select the\n",
    "    # columns of actions taken. These are the actions which would've been taken\n",
    "    # for each batch state according to policy_net\n",
    "\n",
    "    state_action_values = policy_net(state_batch).gather(1, action_batch)\n",
    "\n",
    "    # Compute V(s_{t+1}) for all next states.\n",
    "    # Expected values of actions for non_final_next_states are computed based\n",
    "    # on the \"older\" target_net; selecting their best reward with max(1)[0].\n",
    "    # This is merged based on the mask, such that we'll have either the expected\n",
    "    # state value or 0 in case the state was final.\n",
    "    next_state_values = torch.zeros(BATCH_SIZE, device=device)\n",
    "\n",
    "    next_state_values[non_final_mask] = target_net(non_final_next_states).max(1)[0].detach()\n",
    "    # Compute the expected Q values\n",
    "    expected_state_action_values = (next_state_values * GAMMA) + reward_batch\n",
    "    # print(expected_state_action_values-state_action_values)\n",
    "    # Compute Huber loss\n",
    "    loss = F.smooth_l1_loss(state_action_values, expected_state_action_values.unsqueeze(1))\n",
    "\n",
    "    # Optimize the model\n",
    "    optimizer.zero_grad()\n",
    "    loss.backward()\n",
    "    for param in policy_net.parameters():\n",
    "        param.grad.data.clamp_(-1, 1)\n",
    "    optimizer.step()"
   ]
  },
  {
   "cell_type": "code",
   "execution_count": null,
   "metadata": {
    "pycharm": {
     "name": "#%%\n",
     "is_executing": true
    }
   },
   "outputs": [
    {
     "name": "stderr",
     "output_type": "stream",
     "text": [
      " 14%|█▎        | 136/1001 [08:14<1:17:42,  5.39s/it]"
     ]
    },
    {
     "name": "stdout",
     "output_type": "stream",
     "text": [
      "marking, episode: 0, score: 2.0, mean_score: 2.00, std_score: 0.00\n",
      "episode: 10, score: 1.0, mean_score: 1.80, std_score: 1.08\n",
      "episode: 20, score: 2.0, mean_score: 1.50, std_score: 0.97\n",
      "episode: 30, score: 2.0, mean_score: 1.57, std_score: 0.92\n",
      "episode: 40, score: 2.0, mean_score: 1.50, std_score: 0.87\n",
      "episode: 50, score: 2.0, mean_score: 1.64, std_score: 0.91\n",
      "episode: 60, score: 3.0, mean_score: 1.87, std_score: 1.09\n",
      "episode: 70, score: 3.0, mean_score: 2.01, std_score: 1.09\n",
      "episode: 80, score: 4.0, mean_score: 2.17, std_score: 1.17\n",
      "episode: 90, score: 5.0, mean_score: 2.44, std_score: 1.55\n",
      "marking, episode: 100, score: 2.0, mean_score: 2.54, std_score: 1.56\n",
      "episode: 110, score: 1.0, mean_score: 2.60, std_score: 0.92\n",
      "episode: 120, score: 2.0, mean_score: 2.30, std_score: 1.00\n",
      "episode: 130, score: 4.0, mean_score: 2.50, std_score: 0.99\n"
     ]
    }
   ],
   "source": [
    "# vid = gym.wrappers.monitoring.video_recorder.VideoRecorder(env, \"./recordings/breakout/vid.mp4\")\n",
    "seed = 742\n",
    "torch.manual_seed(seed)\n",
    "env.seed(seed)\n",
    "random.seed(seed)\n",
    "np.random.seed(seed)\n",
    "env.action_space.seed(seed)\n",
    "\n",
    "marking=[]\n",
    "episodeScores=[]\n",
    "num_episodes = 1000\n",
    "frames = 0\n",
    "for n_episode in tqdm(range(num_episodes+1)):\n",
    "    score=0\n",
    "    # Initialize the environment and state\n",
    "    temp = env.reset()\n",
    "    state = get_screen(temp)\n",
    "\n",
    "    while True:\n",
    "        # Select and perform an action\n",
    "        action = select_action(state,n_episode)\n",
    "\n",
    "        obvs, reward, done, info = env.step(action.item())\n",
    "\n",
    "        score+=reward\n",
    "        reward = torch.tensor([reward], device=device)\n",
    "\n",
    "        # Observe new state\n",
    "        next_state = get_screen(obvs)\n",
    "        if done:\n",
    "            next_state = None\n",
    "\n",
    "        # Store the transition in memory\n",
    "        # TODO add delta priority -> r+GAMMA*max(Q(next state)) - Q(current state)\n",
    "        memory.push(state, action, next_state, reward)\n",
    "        frames+=1\n",
    "        # Move to the next state\n",
    "        state = next_state\n",
    "\n",
    "        # Perform one step of the optimization (on the target network)\n",
    "        optimize_model()\n",
    "        if done:\n",
    "            break\n",
    "    # print(int(score), end='\\r')\n",
    "    episodeScores.append(score)\n",
    "    # do not change lines 44-48 here, they are for marking the submission log\n",
    "    marking.append(score)\n",
    "    if n_episode%100 == 0:\n",
    "        print(\"marking, episode: {}, score: {:.1f}, mean_score: {:.2f}, std_score: {:.2f}\".format(\n",
    "            n_episode, score, np.array(marking).mean(), np.array(marking).std()))\n",
    "        marking = []\n",
    "    # Update the target network, copying all weights and biases in DQN\n",
    "    if n_episode % TARGET_UPDATE == 0:\n",
    "        target_net.load_state_dict(policy_net.state_dict())\n",
    "    if n_episode % OUTPUT_FREQUENCY == 0:\n",
    "        if len(marking)>0:\n",
    "            print(\"episode: {}, score: {:.1f}, mean_score: {:.2f}, std_score: {:.2f}\".format(\n",
    "                n_episode, score, np.array(marking).mean(), np.array(marking).std()))\n",
    "\n",
    "\n",
    "print('Complete')\n",
    "# env.render()\n",
    "env.close()\n"
   ]
  },
  {
   "cell_type": "code",
   "execution_count": null,
   "outputs": [],
   "source": [
    "# Trend Graphs\n",
    "episodeScoresEnum = sorted(enumerate(episodeScores),reverse=True,key=lambda x:x[1])\n",
    "print('Top 5 scores overall')\n",
    "print(episodeScoresEnum[:5])\n",
    "tempScores = sorted([(i,j) for i,j in enumerate(episodeScores) if i%video_every==0],key=lambda x:x[1],reverse=True)\n",
    "print('Top videos:')\n",
    "print(tempScores[:10])\n",
    "print('Bottom Videos')\n",
    "print(tempScores[-10:][::-1])\n",
    "print('Total Frames Trained on: ',frames)\n",
    "plt.plot(range(len(episodeScores)),episodeScores)\n",
    "plt.ylabel('score')\n",
    "plt.xlabel('episodes')\n",
    "plt.show()"
   ],
   "metadata": {
    "collapsed": false,
    "pycharm": {
     "name": "#%%\n",
     "is_executing": true
    }
   }
  },
  {
   "cell_type": "code",
   "execution_count": null,
   "outputs": [],
   "source": [
    "averages = []\n",
    "tempAverage = 0\n",
    "for i in enumerate(episodeScores):\n",
    "    tempAverage+=i[1]\n",
    "    if i[0]%10==0:\n",
    "        averages.append(tempAverage/10)\n",
    "        tempAverage=0\n",
    "plt.plot(range(len(averages)),averages)\n",
    "plt.ylabel('Average score')\n",
    "plt.xlabel('per 10 episodes')\n",
    "plt.show()"
   ],
   "metadata": {
    "collapsed": false,
    "pycharm": {
     "name": "#%%\n",
     "is_executing": true
    }
   }
  },
  {
   "cell_type": "code",
   "execution_count": null,
   "outputs": [],
   "source": [
    "if num_episodes>100:\n",
    "    averages = []\n",
    "    tempAverage = 0\n",
    "    for i in enumerate(episodeScores):\n",
    "        tempAverage+=i[1]\n",
    "        if i[0]%100==0:\n",
    "            averages.append(tempAverage/100)\n",
    "            tempAverage=0\n",
    "    plt.plot(range(len(averages)),averages)\n",
    "    plt.ylabel('Average score')\n",
    "    plt.xlabel('per 100 episodes')\n",
    "    plt.show()"
   ],
   "metadata": {
    "collapsed": false,
    "pycharm": {
     "name": "#%%\n",
     "is_executing": true
    }
   }
  }
 ],
 "metadata": {
  "kernelspec": {
   "name": "python3",
   "language": "python",
   "display_name": "Python 3"
  },
  "language_info": {
   "codemirror_mode": {
    "name": "ipython",
    "version": 3
   },
   "file_extension": ".py",
   "mimetype": "text/x-python",
   "name": "python",
   "nbconvert_exporter": "python",
   "pygments_lexer": "ipython3",
   "version": "3.8.5"
  }
 },
 "nbformat": 4,
 "nbformat_minor": 1
}